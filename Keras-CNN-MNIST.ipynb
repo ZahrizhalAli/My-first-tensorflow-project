{
 "cells": [
  {
   "cell_type": "code",
   "execution_count": 59,
   "metadata": {},
   "outputs": [],
   "source": [
    "import tensorflow as tf\n",
    "from tensorflow import keras\n",
    "from tensorflow.keras.datasets import mnist"
   ]
  },
  {
   "cell_type": "code",
   "execution_count": 60,
   "metadata": {},
   "outputs": [],
   "source": [
    "(x_train, y_train), (x_test,y_test) = mnist.load_data()"
   ]
  },
  {
   "cell_type": "code",
   "execution_count": 61,
   "metadata": {},
   "outputs": [],
   "source": [
    "import matplotlib.pyplot as plt"
   ]
  },
  {
   "cell_type": "code",
   "execution_count": 62,
   "metadata": {},
   "outputs": [
    {
     "data": {
      "text/plain": [
       "(60000, 28, 28)"
      ]
     },
     "execution_count": 62,
     "metadata": {},
     "output_type": "execute_result"
    }
   ],
   "source": [
    "x_train.shape # training data consists 60000 image with 28x28 pixels"
   ]
  },
  {
   "cell_type": "code",
   "execution_count": 63,
   "metadata": {},
   "outputs": [],
   "source": [
    "single_image = x_train[0]"
   ]
  },
  {
   "cell_type": "code",
   "execution_count": 64,
   "metadata": {},
   "outputs": [
    {
     "data": {
      "text/plain": [
       "<matplotlib.image.AxesImage at 0x1430d32f1c8>"
      ]
     },
     "execution_count": 64,
     "metadata": {},
     "output_type": "execute_result"
    },
    {
     "data": {
      "image/png": "[encoded data removed]",
      "text/plain": [
       "<Figure size 432x288 with 1 Axes>"
      ]
     },
     "metadata": {
      "needs_background": "light"
     },
     "output_type": "display_data"
    }
   ],
   "source": [
    "plt.imshow(single_image,cmap='gray_r') # gray_r to reverse color "
   ]
  },
  {
   "cell_type": "code",
   "execution_count": 65,
   "metadata": {},
   "outputs": [
    {
     "data": {
      "text/plain": [
       "array([5, 0, 4, ..., 5, 6, 8], dtype=uint8)"
      ]
     },
     "execution_count": 65,
     "metadata": {},
     "output_type": "execute_result"
    }
   ],
   "source": [
    "# Labels\n",
    "y_train"
   ]
  },
  {
   "cell_type": "code",
   "execution_count": 66,
   "metadata": {},
   "outputs": [
    {
     "data": {
      "text/plain": [
       "<matplotlib.image.AxesImage at 0x1430ee97848>"
      ]
     },
     "execution_count": 66,
     "metadata": {},
     "output_type": "execute_result"
    },
    {
     "data": {
      "image/png": "[encoded data removed]",
      "text/plain": [
       "<Figure size 432x288 with 1 Axes>"
      ]
     },
     "metadata": {
      "needs_background": "light"
     },
     "output_type": "display_data"
    }
   ],
   "source": [
    "plt.imshow(x_train[1], cmap='gray')"
   ]
  },
  {
   "cell_type": "markdown",
   "metadata": {},
   "source": [
    "# We need to apply one-hot-encoding convert because this is something neural networks understand and good for sigmoid function for activation in output layer"
   ]
  },
  {
   "cell_type": "code",
   "execution_count": 67,
   "metadata": {},
   "outputs": [],
   "source": [
    "from tensorflow.keras.utils import to_categorical"
   ]
  },
  {
   "cell_type": "code",
   "execution_count": 68,
   "metadata": {},
   "outputs": [],
   "source": [
    "# One-hot-encoding convert for both testt and training labels\n",
    "y_cat_test = to_categorical(y_test,10)\n",
    "y_cat_train = to_categorical(y_train,10)"
   ]
  },
  {
   "cell_type": "code",
   "execution_count": 69,
   "metadata": {},
   "outputs": [
    {
     "data": {
      "text/plain": [
       "array([[0., 0., 0., ..., 1., 0., 0.],\n",
       "       [0., 0., 1., ..., 0., 0., 0.],\n",
       "       [0., 1., 0., ..., 0., 0., 0.],\n",
       "       ...,\n",
       "       [0., 0., 0., ..., 0., 0., 0.],\n",
       "       [0., 0., 0., ..., 0., 0., 0.],\n",
       "       [0., 0., 0., ..., 0., 0., 0.]], dtype=float32)"
      ]
     },
     "execution_count": 69,
     "metadata": {},
     "output_type": "execute_result"
    }
   ],
   "source": [
    "y_cat_test"
   ]
  },
  {
   "cell_type": "code",
   "execution_count": 70,
   "metadata": {},
   "outputs": [
    {
     "data": {
      "text/plain": [
       "array([0., 0., 0., 0., 0., 1., 0., 0., 0., 0.], dtype=float32)"
      ]
     },
     "execution_count": 70,
     "metadata": {},
     "output_type": "execute_result"
    }
   ],
   "source": [
    "y_cat_train[0]"
   ]
  },
  {
   "cell_type": "code",
   "execution_count": 71,
   "metadata": {},
   "outputs": [
    {
     "data": {
      "text/plain": [
       "255"
      ]
     },
     "execution_count": 71,
     "metadata": {},
     "output_type": "execute_result"
    }
   ],
   "source": [
    "single_image.max()"
   ]
  },
  {
   "cell_type": "markdown",
   "metadata": {},
   "source": [
    "# We have to normalize the image to be between 0 and 1"
   ]
  },
  {
   "cell_type": "code",
   "execution_count": 72,
   "metadata": {},
   "outputs": [],
   "source": [
    "# without sklearn\n",
    "x_train = x_train / x_train.max() #  divided by 255"
   ]
  },
  {
   "cell_type": "code",
   "execution_count": 73,
   "metadata": {},
   "outputs": [],
   "source": [
    "x_test = x_test / x_test.max() "
   ]
  },
  {
   "cell_type": "code",
   "execution_count": 74,
   "metadata": {},
   "outputs": [],
   "source": [
    "# plt.imshow(x_train[0], cmap='gray_r')"
   ]
  },
  {
   "cell_type": "markdown",
   "metadata": {},
   "source": [
    "# Make it general by reshape it"
   ]
  },
  {
   "cell_type": "code",
   "execution_count": 75,
   "metadata": {},
   "outputs": [],
   "source": [
    "x_train = x_train.reshape(60000,28,28,1)"
   ]
  },
  {
   "cell_type": "code",
   "execution_count": 76,
   "metadata": {},
   "outputs": [
    {
     "data": {
      "text/plain": [
       "(60000, 28, 28, 1)"
      ]
     },
     "execution_count": 76,
     "metadata": {},
     "output_type": "execute_result"
    }
   ],
   "source": [
    "x_train.shape"
   ]
  },
  {
   "cell_type": "code",
   "execution_count": 77,
   "metadata": {},
   "outputs": [
    {
     "data": {
      "text/plain": [
       "(10000, 28, 28)"
      ]
     },
     "execution_count": 77,
     "metadata": {},
     "output_type": "execute_result"
    }
   ],
   "source": [
    "# do the same with x_test\n",
    "x_test.shape"
   ]
  },
  {
   "cell_type": "code",
   "execution_count": 78,
   "metadata": {},
   "outputs": [],
   "source": [
    "x_test = x_test.reshape(10000,28,28,1)"
   ]
  },
  {
   "cell_type": "code",
   "execution_count": 79,
   "metadata": {},
   "outputs": [],
   "source": [
    "# WE HAVE UNDERSTOOD THE DATA AND VISUALIZE\n",
    "# NOW IT'S TIME TO BUILD AND TRAIN OUR MODEL"
   ]
  },
  {
   "cell_type": "code",
   "execution_count": 80,
   "metadata": {},
   "outputs": [],
   "source": [
    "from tensorflow.keras import Sequential\n",
    "from tensorflow.keras.layers import Dense, Conv2D, MaxPool2D, Flatten"
   ]
  },
  {
   "cell_type": "code",
   "execution_count": 81,
   "metadata": {},
   "outputs": [],
   "source": [
    "model = Sequential()\n",
    "\n",
    "# CONVOLUTIONAL LAYER\n",
    "model.add(Conv2D(filters=32,kernel_size=(4,4), input_shape=(28,28,1), activation='relu' )) # up number of filters for advance image\n",
    "\n",
    "# POOLING LAYER\n",
    "model.add(MaxPool2D(pool_size=(2,2)))\n",
    "\n",
    "# FLATTEN the one-hot-encoding from 2d to --> 1d\n",
    "model.add(Flatten())\n",
    "\n",
    "# DENSE LAYER\n",
    "model.add(Dense(128, activation='relu'))\n",
    "\n",
    "#OUTPUT LAYER\n",
    "model.add(Dense(10, activation='softmax'))\n",
    "\n",
    "# DONT FORGET TO COMPILE\n",
    "model.compile(loss='categorical_crossentropy', optimizer='rmsprop', metrics=['accuracy'])"
   ]
  },
  {
   "cell_type": "code",
   "execution_count": 82,
   "metadata": {},
   "outputs": [
    {
     "name": "stdout",
     "output_type": "stream",
     "text": [
      "Model: \"sequential_2\"\n",
      "_________________________________________________________________\n",
      "Layer (type)                 Output Shape              Param #   \n",
      "=================================================================\n",
      "conv2d_1 (Conv2D)            (None, 25, 25, 32)        544       \n",
      "_________________________________________________________________\n",
      "max_pooling2d_1 (MaxPooling2 (None, 12, 12, 32)        0         \n",
      "_________________________________________________________________\n",
      "flatten_1 (Flatten)          (None, 4608)              0         \n",
      "_________________________________________________________________\n",
      "dense_2 (Dense)              (None, 128)               589952    \n",
      "_________________________________________________________________\n",
      "dense_3 (Dense)              (None, 10)                1290      \n",
      "=================================================================\n",
      "Total params: 591,786\n",
      "Trainable params: 591,786\n",
      "Non-trainable params: 0\n",
      "_________________________________________________________________\n"
     ]
    }
   ],
   "source": [
    "# Summarize model\n",
    "model.summary()"
   ]
  },
  {
   "cell_type": "markdown",
   "metadata": {},
   "source": [
    "# Fit the data : TRAIN OUR DATA WITH OUR MODEL"
   ]
  },
  {
   "cell_type": "code",
   "execution_count": 87,
   "metadata": {},
   "outputs": [
    {
     "name": "stdout",
     "output_type": "stream",
     "text": [
      "Train on 60000 samples\n",
      "Epoch 1/2\n",
      "60000/60000 [==============================] - 36s 599us/sample - loss: 0.0252 - accuracy: 0.9929\n",
      "Epoch 2/2\n",
      "60000/60000 [==============================] - 38s 633us/sample - loss: 0.0196 - accuracy: 0.9943\n"
     ]
    },
    {
     "data": {
      "text/plain": [
       "<tensorflow.python.keras.callbacks.History at 0x1430ee3d4c8>"
      ]
     },
     "execution_count": 87,
     "metadata": {},
     "output_type": "execute_result"
    }
   ],
   "source": [
    "model.fit(x_train,y_cat_train, epochs=2)"
   ]
  },
  {
   "cell_type": "code",
   "execution_count": 84,
   "metadata": {},
   "outputs": [
    {
     "data": {
      "text/plain": [
       "['loss', 'accuracy']"
      ]
     },
     "execution_count": 84,
     "metadata": {},
     "output_type": "execute_result"
    }
   ],
   "source": [
    "model.metrics_names"
   ]
  },
  {
   "cell_type": "code",
   "execution_count": 89,
   "metadata": {},
   "outputs": [
    {
     "name": "stdout",
     "output_type": "stream",
     "text": [
      "10000/10000 [==============================] - 1s 91us/sample - loss: 0.0459 - accuracy: 0.9889\n"
     ]
    },
    {
     "data": {
      "text/plain": [
       "[0.045937658535446284, 0.9889]"
      ]
     },
     "execution_count": 89,
     "metadata": {},
     "output_type": "execute_result"
    }
   ],
   "source": [
    "model.evaluate(x_test, y_cat_test)"
   ]
  },
  {
   "cell_type": "code",
   "execution_count": 90,
   "metadata": {},
   "outputs": [],
   "source": [
    "# predict classes from image the model hasnt been seen before"
   ]
  },
  {
   "cell_type": "code",
   "execution_count": 91,
   "metadata": {},
   "outputs": [],
   "source": [
    "from sklearn.metrics import classification_report"
   ]
  },
  {
   "cell_type": "code",
   "execution_count": 92,
   "metadata": {},
   "outputs": [],
   "source": [
    "predictions = model.predict_classes(x_test)"
   ]
  },
  {
   "cell_type": "markdown",
   "metadata": {},
   "source": [
    "### If we print predictions, it will show the data in NON one-hot-encoding , therefore when we wanted to do classification_report between the label test to the predictions , then we use the NON ONE-HOT-ENCODING either"
   ]
  },
  {
   "cell_type": "code",
   "execution_count": 93,
   "metadata": {},
   "outputs": [
    {
     "data": {
      "text/plain": [
       "array([7, 2, 1, ..., 4, 5, 6], dtype=uint8)"
      ]
     },
     "execution_count": 93,
     "metadata": {},
     "output_type": "execute_result"
    }
   ],
   "source": [
    "y_test"
   ]
  },
  {
   "cell_type": "code",
   "execution_count": 94,
   "metadata": {},
   "outputs": [
    {
     "data": {
      "text/plain": [
       "array([7, 2, 1, ..., 4, 5, 6], dtype=int64)"
      ]
     },
     "execution_count": 94,
     "metadata": {},
     "output_type": "execute_result"
    }
   ],
   "source": [
    "predictions"
   ]
  },
  {
   "cell_type": "code",
   "execution_count": 96,
   "metadata": {},
   "outputs": [
    {
     "name": "stdout",
     "output_type": "stream",
     "text": [
      "              precision    recall  f1-score   support\n",
      "\n",
      "           0       0.98      1.00      0.99       980\n",
      "           1       1.00      1.00      1.00      1135\n",
      "           2       0.99      0.99      0.99      1032\n",
      "           3       0.98      0.99      0.99      1010\n",
      "           4       1.00      0.98      0.99       982\n",
      "           5       0.99      0.99      0.99       892\n",
      "           6       0.99      0.98      0.99       958\n",
      "           7       0.98      0.99      0.99      1028\n",
      "           8       0.98      0.99      0.99       974\n",
      "           9       0.99      0.98      0.98      1009\n",
      "\n",
      "    accuracy                           0.99     10000\n",
      "   macro avg       0.99      0.99      0.99     10000\n",
      "weighted avg       0.99      0.99      0.99     10000\n",
      "\n"
     ]
    }
   ],
   "source": [
    "print(classification_report(y_test,predictions))"
   ]
  },
  {
   "cell_type": "code",
   "execution_count": 97,
   "metadata": {},
   "outputs": [
    {
     "data": {
      "text/plain": [
       "[array([[[[-4.58066836e-02, -1.40102178e-01,  2.88284272e-02,\n",
       "           -3.87745164e-02,  2.41309762e-01,  4.51834290e-04,\n",
       "           -7.83515200e-02,  8.93211737e-02, -2.16139168e-01,\n",
       "            2.07402930e-02, -2.79819936e-01, -8.30500573e-02,\n",
       "            1.14717349e-01, -3.90996458e-03, -9.11667347e-02,\n",
       "            1.35622829e-01,  1.01673178e-01, -4.46857736e-02,\n",
       "            1.86176654e-02, -1.42477542e-01, -1.12391219e-01,\n",
       "            9.68511924e-02,  2.49140896e-02,  7.39886612e-02,\n",
       "           -1.77623674e-01, -5.34769297e-02, -8.73646513e-02,\n",
       "            1.03493065e-01,  5.96840270e-02,  1.00679405e-01,\n",
       "           -1.41280338e-01, -3.43167990e-01]],\n",
       " \n",
       "         [[ 4.87442091e-02,  6.70629591e-02,  5.33851162e-02,\n",
       "           -5.09608835e-02,  2.02422261e-01,  2.70827889e-01,\n",
       "           -1.92874476e-01, -1.76873818e-01, -4.55628932e-02,\n",
       "            5.75123467e-02, -1.80973202e-01, -1.22620992e-01,\n",
       "           -1.07387841e-01,  7.16993064e-02,  1.76353320e-01,\n",
       "            9.93161052e-02,  1.49946541e-01,  1.42298430e-01,\n",
       "           -3.05076800e-02, -9.74292457e-02, -1.06646242e-02,\n",
       "            2.75804545e-03,  3.34583111e-02, -9.68937352e-02,\n",
       "           -2.00448275e-01, -5.60661964e-03, -2.81300277e-01,\n",
       "           -2.02051580e-01,  2.94771101e-02,  1.56414658e-02,\n",
       "           -1.80670157e-01, -7.51026645e-02]],\n",
       " \n",
       "         [[ 1.39833257e-01, -3.30083296e-02,  1.14992805e-01,\n",
       "           -4.27393466e-02,  1.30233556e-01,  1.54712051e-01,\n",
       "            7.03072771e-02, -3.06791276e-01,  2.91829705e-02,\n",
       "            1.48191392e-01,  8.15448016e-02, -2.20024407e-01,\n",
       "           -1.13828704e-01, -7.44315013e-02,  1.38154831e-02,\n",
       "           -5.04333153e-02, -5.63348755e-02,  8.32776204e-02,\n",
       "           -6.34960085e-02, -2.49616522e-03, -5.96166775e-02,\n",
       "           -1.89291462e-01,  2.83325054e-02, -1.39552960e-03,\n",
       "           -7.28176758e-02, -1.40911058e-01, -3.87833863e-01,\n",
       "           -1.02316253e-02,  1.27362996e-01, -8.93700272e-02,\n",
       "           -2.21233025e-01,  6.23488985e-02]],\n",
       " \n",
       "         [[ 8.67278874e-03,  1.45301536e-01, -1.55000597e-01,\n",
       "            1.54407948e-01, -3.59957308e-01,  1.89630270e-01,\n",
       "            1.03067324e-01, -1.58206578e-02,  8.03437606e-02,\n",
       "            7.05969632e-02,  5.33993766e-02, -1.53158292e-01,\n",
       "            1.62725016e-01, -1.57582968e-01, -2.34359294e-01,\n",
       "           -1.81023642e-01,  1.33359894e-01, -1.67457685e-01,\n",
       "            1.26568854e-01,  3.30782160e-02,  8.72854292e-02,\n",
       "           -7.39231408e-02, -8.77060369e-02, -2.38669738e-02,\n",
       "           -1.23229455e-02, -2.57302165e-01, -1.15141980e-01,\n",
       "            1.09247126e-01,  2.19287843e-01, -1.31092757e-01,\n",
       "           -1.97698131e-01,  2.09797680e-01]]],\n",
       " \n",
       " \n",
       "        [[[-8.16929191e-02,  1.25864461e-01, -6.98227063e-02,\n",
       "            4.51633753e-03,  1.53228432e-01, -4.77650881e-01,\n",
       "           -2.42040396e-01,  1.40000463e-01, -1.17716298e-01,\n",
       "            5.76684549e-02, -1.41040653e-01,  2.42569484e-02,\n",
       "           -1.15140460e-01,  1.00957463e-02, -5.48899407e-03,\n",
       "           -9.99008119e-02, -7.84923658e-02, -2.56905913e-01,\n",
       "            4.42972928e-02, -3.31416316e-02, -2.28299394e-01,\n",
       "            9.10597071e-02, -2.28479896e-02,  4.90899161e-02,\n",
       "           -8.55836049e-02,  7.41875246e-02, -3.51170957e-01,\n",
       "            9.03378129e-02,  2.42266878e-02,  5.79724014e-02,\n",
       "           -7.54791498e-03, -2.09286898e-01]],\n",
       " \n",
       "         [[ 1.74598083e-01,  1.21252142e-01,  2.86430772e-02,\n",
       "           -2.83129364e-01, -1.50286704e-01, -5.26334941e-01,\n",
       "            5.33977002e-02, -3.37988473e-02, -7.35499561e-02,\n",
       "           -4.21426333e-02,  2.15040147e-01, -1.50780916e-01,\n",
       "            2.02942584e-02,  1.27932638e-01,  1.55936271e-01,\n",
       "            1.59804031e-01, -4.22984175e-03,  5.67640103e-02,\n",
       "            7.19259754e-02, -6.80475309e-02, -9.64146852e-02,\n",
       "           -1.08570242e-02, -1.40913660e-02,  8.09793547e-02,\n",
       "           -4.80551124e-02,  3.06335445e-02, -8.26107897e-03,\n",
       "           -1.39471740e-01,  9.67325270e-02,  4.55435179e-02,\n",
       "           -6.44734725e-02, -2.85303444e-01]],\n",
       " \n",
       "         [[-4.83485088e-02, -9.95182246e-02,  2.93559581e-02,\n",
       "           -2.02769309e-01, -5.36832035e-01, -2.08323210e-01,\n",
       "            1.52469173e-01, -1.98833682e-02,  1.24903969e-01,\n",
       "           -1.10605024e-01,  1.93320662e-01, -5.84224612e-02,\n",
       "            4.17010114e-02,  1.75272837e-01, -4.07822244e-02,\n",
       "            1.85580865e-01,  1.20162545e-02,  7.31281638e-02,\n",
       "            1.21048063e-01,  4.65686508e-02,  1.29497638e-02,\n",
       "           -5.19100167e-02, -1.32084206e-01,  7.62722548e-03,\n",
       "            7.20528439e-02, -5.89668378e-02,  6.18674271e-02,\n",
       "            6.30719308e-03,  9.44934487e-02, -9.43350494e-02,\n",
       "            9.88420099e-02, -3.58786318e-03]],\n",
       " \n",
       "         [[-1.87603801e-01, -5.31926826e-02, -1.13948636e-01,\n",
       "            1.51066601e-01, -2.72078484e-01, -2.99427032e-01,\n",
       "           -2.42005046e-02,  2.09700152e-01, -4.67371680e-02,\n",
       "           -1.74594611e-01, -5.20684570e-02, -9.24125835e-02,\n",
       "            2.87650526e-02, -8.06183964e-02, -3.26393932e-01,\n",
       "           -1.27811283e-01, -4.95468341e-02,  3.22644971e-02,\n",
       "           -3.35982325e-03,  3.84376105e-03,  1.07077405e-01,\n",
       "           -8.71908665e-02, -9.18006375e-02,  7.73489624e-02,\n",
       "            1.20641261e-01, -2.06527695e-01,  1.27082858e-02,\n",
       "            1.04962839e-02,  4.07759808e-02,  2.11374764e-03,\n",
       "            1.17388489e-02,  2.24258885e-01]]],\n",
       " \n",
       " \n",
       "        [[[ 1.69191696e-02,  1.49862498e-01,  2.71687787e-02,\n",
       "            2.23796830e-01, -5.29126585e-01,  3.94224748e-03,\n",
       "            6.68328479e-02, -2.93042487e-03,  2.09379625e-02,\n",
       "            4.53071445e-02,  3.78192365e-02,  4.41776775e-02,\n",
       "            2.56704111e-02, -1.03039481e-01,  2.35142019e-02,\n",
       "           -9.43953171e-02, -1.93048045e-01,  7.98606034e-03,\n",
       "           -8.76367092e-02, -5.04565053e-02, -2.06766695e-01,\n",
       "            9.48112011e-02,  8.29177350e-02,  9.45226550e-02,\n",
       "           -4.95579764e-02, -2.02031210e-02, -1.99462801e-01,\n",
       "            6.24494553e-02, -1.60351738e-01,  5.56988008e-02,\n",
       "            2.14282021e-01,  7.41075352e-02]],\n",
       " \n",
       "         [[ 7.90736377e-02, -1.36537448e-01,  8.57330188e-02,\n",
       "           -1.23539746e-01, -3.18621725e-01, -1.81785505e-02,\n",
       "            1.11248687e-01, -2.42448058e-02, -4.16588411e-02,\n",
       "            8.61682370e-02,  1.86317980e-01,  1.06945343e-01,\n",
       "           -5.57743162e-02, -7.50232935e-02,  2.39353869e-02,\n",
       "           -4.79344167e-02, -1.05361722e-01, -4.56726030e-02,\n",
       "            2.65640691e-02, -1.99631322e-02, -2.10054323e-01,\n",
       "           -3.63380909e-02, -5.58899939e-02, -9.45332944e-02,\n",
       "            6.84697926e-02,  1.03694476e-01, -9.66023002e-03,\n",
       "            1.66846602e-03,  1.29940184e-02,  1.37000099e-01,\n",
       "            1.17560633e-01, -2.21110269e-01]],\n",
       " \n",
       "         [[ 7.61931669e-03, -1.58118039e-01,  5.25673069e-02,\n",
       "           -2.37889066e-01, -7.61871934e-02, -2.55437437e-02,\n",
       "            2.48468593e-02, -3.97783853e-02,  3.77560444e-02,\n",
       "           -2.23730654e-02, -4.49394919e-02,  6.09884486e-02,\n",
       "            9.37021151e-02,  1.04259714e-01, -1.26440927e-01,\n",
       "            1.60068884e-01,  6.34796694e-02, -4.16936986e-02,\n",
       "            8.04430395e-02,  1.17971981e-02,  8.41926336e-02,\n",
       "           -3.29433978e-02, -1.26842558e-01,  3.57903652e-02,\n",
       "           -1.93409063e-02, -5.20969788e-03,  1.19240947e-01,\n",
       "            5.06390855e-02,  5.85007668e-02,  1.44824088e-01,\n",
       "            1.19452953e-01, -5.25641084e-01]],\n",
       " \n",
       "         [[-1.16874874e-01,  2.58138012e-02, -2.54692018e-01,\n",
       "            1.07749708e-01,  1.33183062e-01, -1.34957999e-01,\n",
       "           -7.88752064e-02,  5.46730682e-02,  2.05340143e-02,\n",
       "            1.17642529e-01, -1.82386249e-01,  9.70831141e-02,\n",
       "            2.83552743e-02,  9.38053131e-02, -2.08864257e-01,\n",
       "            8.05037543e-02,  2.03384496e-02,  5.93340173e-02,\n",
       "           -1.32683948e-01, -7.05898851e-02,  8.16866476e-03,\n",
       "           -3.57011426e-03,  6.40734136e-02,  8.02151263e-02,\n",
       "            4.45738509e-02, -2.28663981e-01,  1.64499715e-01,\n",
       "           -3.20060514e-02,  9.75421444e-02,  9.54326615e-02,\n",
       "            1.76371366e-01, -2.11215273e-01]]],\n",
       " \n",
       " \n",
       "        [[[ 3.93801592e-02, -9.22445208e-02, -1.61705226e-01,\n",
       "            9.58862752e-02, -7.74938017e-02,  2.46622130e-01,\n",
       "            1.00664750e-01, -3.51376653e-01, -1.28769338e-01,\n",
       "           -1.65368393e-02,  1.54419448e-02,  8.12636763e-02,\n",
       "            1.23653725e-01, -2.04513371e-01, -5.01501188e-03,\n",
       "           -2.03747675e-01,  3.91627438e-02,  7.61051178e-02,\n",
       "           -3.40117484e-01, -7.25536644e-02, -5.38240261e-02,\n",
       "            1.52706340e-01,  7.26110414e-02, -6.92316517e-02,\n",
       "            5.80280125e-02,  8.78155231e-02, -3.16763759e-01,\n",
       "            1.24479510e-01, -2.77799487e-01, -1.20926932e-01,\n",
       "           -1.54760569e-01,  2.67776698e-01]],\n",
       " \n",
       "         [[ 7.45746791e-02,  9.87607911e-02,  4.79753464e-02,\n",
       "            7.28174970e-02,  5.98253123e-02,  2.62562603e-01,\n",
       "           -3.15574519e-02, -1.41705513e-01,  4.47961465e-02,\n",
       "            7.10329860e-02, -4.71901009e-03,  2.03043312e-01,\n",
       "            5.69941849e-02, -1.51115865e-01, -4.61627468e-02,\n",
       "           -1.64262094e-02, -2.95980591e-02,  1.49594117e-02,\n",
       "           -1.47827789e-01, -6.83504669e-03, -2.46891245e-01,\n",
       "           -1.02612339e-02,  2.69632731e-02, -3.94700840e-02,\n",
       "            4.74733002e-02,  5.43022044e-02, -1.14756487e-01,\n",
       "           -6.01344518e-02, -2.81652719e-01, -5.53821810e-02,\n",
       "           -1.61389038e-01,  1.79307356e-01]],\n",
       " \n",
       "         [[-7.79820532e-02,  1.20271131e-01, -1.53710485e-01,\n",
       "           -1.33150890e-01,  2.01068416e-01,  1.27703398e-01,\n",
       "           -5.62746562e-02, -3.25142205e-01,  4.84319404e-02,\n",
       "           -2.27293000e-03, -1.77975476e-01,  1.38360828e-01,\n",
       "           -8.26425180e-02,  3.74014378e-02, -1.81603566e-01,\n",
       "           -5.92013933e-02,  1.07962824e-01, -2.83041899e-03,\n",
       "           -2.06706166e-01,  5.41151427e-02, -1.69475935e-02,\n",
       "           -1.13045752e-01, -8.43310729e-02, -7.09399581e-02,\n",
       "           -6.29128814e-02, -7.45961592e-02,  1.12937704e-01,\n",
       "           -8.54219273e-02, -3.28764856e-01, -2.49954853e-02,\n",
       "           -1.59583285e-01,  2.59312857e-02]],\n",
       " \n",
       "         [[ 9.18554738e-02,  8.07912573e-02, -1.90993309e-01,\n",
       "           -2.17343736e-02,  1.39753595e-01,  1.79209989e-02,\n",
       "           -1.01258226e-01, -1.56464219e-01,  4.17096168e-02,\n",
       "            6.86902478e-02, -9.66130942e-02,  1.05075896e-01,\n",
       "           -5.18101007e-02, -3.61724617e-03, -8.58178958e-02,\n",
       "            1.82356820e-01,  8.55356604e-02,  8.50383788e-02,\n",
       "           -3.08826357e-01,  4.51335460e-02,  1.44957498e-01,\n",
       "           -2.53506135e-02,  1.22634098e-01, -8.92822370e-02,\n",
       "           -5.55271329e-03, -2.35590115e-02,  5.73236272e-02,\n",
       "            8.38753432e-02, -2.56123275e-01,  1.11906737e-01,\n",
       "           -8.48913193e-02, -1.98765472e-01]]]], dtype=float32),\n",
       " array([-0.16650462, -0.16890104, -0.08435592, -0.02770143,  0.00369927,\n",
       "        -0.00073401, -0.14389142, -0.01074125, -0.1784101 , -0.2505422 ,\n",
       "        -0.05418188, -0.08248082, -0.19503441, -0.16774206, -0.08406609,\n",
       "        -0.20047368, -0.21865416, -0.18620826, -0.07369683, -0.17741846,\n",
       "        -0.14524415, -0.13822444, -0.16679169, -0.19875044, -0.15825012,\n",
       "        -0.06129135, -0.02730442, -0.15574071, -0.08377896, -0.27495018,\n",
       "        -0.00243514, -0.00441895], dtype=float32),\n",
       " array([[ 0.02586824,  0.03133471,  0.02244213, ...,  0.02553072,\n",
       "         -0.01231319, -0.00567733],\n",
       "        [-0.00117137,  0.00710859, -0.0323459 , ...,  0.01162263,\n",
       "          0.02531928, -0.00814023],\n",
       "        [-0.01222993, -0.00572024, -0.01066226, ...,  0.02516558,\n",
       "         -0.03359297, -0.00100622],\n",
       "        ...,\n",
       "        [ 0.07786772, -0.00911752,  0.04235469, ...,  0.06295031,\n",
       "         -0.05769148, -0.01775245],\n",
       "        [ 0.07741154, -0.0105167 ,  0.09500158, ...,  0.06648453,\n",
       "          0.03067785, -0.0385968 ],\n",
       "        [ 0.03544278, -0.08995456,  0.08413525, ..., -0.05294524,\n",
       "         -0.01540793, -0.03002004]], dtype=float32),\n",
       " array([-4.68715653e-02, -1.16600826e-01, -9.20218080e-02, -1.28123701e-01,\n",
       "        -6.05804734e-02, -1.88942432e-01, -1.41766265e-01, -1.51761457e-01,\n",
       "        -7.80088976e-02, -9.03144404e-02, -9.13012680e-03, -1.22790914e-02,\n",
       "        -2.01930422e-02, -2.72322074e-02,  3.41398790e-02, -6.05188776e-03,\n",
       "        -9.37239975e-02, -4.82384972e-02, -1.72838256e-01, -7.18824342e-02,\n",
       "         6.28294200e-02,  9.46636349e-02, -6.19245181e-03, -9.43346322e-02,\n",
       "        -7.79791474e-02, -1.94797181e-02, -6.68736398e-02, -1.28372520e-01,\n",
       "        -1.60861671e-01, -7.16529489e-02,  5.29236048e-02, -5.45427166e-02,\n",
       "        -6.28006309e-02, -1.04866594e-01, -4.30535115e-02,  2.68593867e-04,\n",
       "        -7.20986053e-02, -7.92344380e-03, -6.06670417e-02, -3.90142985e-02,\n",
       "        -1.17164366e-01, -2.48623006e-02, -3.69857140e-02, -8.54026973e-02,\n",
       "         5.59470244e-02, -1.29004672e-01, -5.61630614e-02, -8.84081125e-02,\n",
       "        -1.13495581e-01, -1.76088497e-01,  7.34887049e-02, -1.05990790e-01,\n",
       "        -2.04517990e-01,  1.21134063e-02, -1.37588471e-01, -5.29731363e-02,\n",
       "        -3.72243226e-02,  1.75293665e-02,  6.31869584e-02, -4.44556102e-02,\n",
       "        -9.36818495e-03,  3.79528739e-02, -1.53216332e-01, -6.67331042e-04,\n",
       "        -2.10777879e-01, -6.52193204e-02,  2.27893125e-02, -2.14404855e-02,\n",
       "        -4.90808822e-02,  1.67854838e-02, -6.53010933e-03, -9.44287423e-03,\n",
       "        -1.69209316e-01, -1.11183114e-01, -6.31201034e-03, -8.85802060e-02,\n",
       "        -1.26631305e-01, -1.56580389e-01, -1.06335916e-01, -5.72036207e-02,\n",
       "         8.06200411e-03, -3.88875268e-02, -8.40345398e-02, -1.23509448e-02,\n",
       "        -9.42493323e-03, -4.54490781e-02, -1.49086699e-01, -5.97166717e-02,\n",
       "        -1.87898636e-01, -8.41572583e-02, -1.66342020e-01, -1.03535905e-01,\n",
       "        -1.13904580e-01, -1.43684119e-01, -6.07720800e-02, -1.86552256e-01,\n",
       "        -8.40311497e-02, -1.46112293e-01,  4.69280779e-03,  4.56962287e-02,\n",
       "        -4.70815077e-02, -3.18004712e-02, -1.14863411e-01, -2.34419610e-02,\n",
       "         4.77097444e-02, -7.23588243e-02,  2.01237481e-02, -3.74865904e-02,\n",
       "        -7.27271438e-02, -6.83176368e-02, -8.40870291e-02,  8.81448947e-03,\n",
       "        -2.09407255e-01, -5.81876189e-02, -1.51526198e-01, -1.01421013e-01,\n",
       "        -1.28547400e-01, -6.41431734e-02,  6.02000393e-02, -4.86283861e-02,\n",
       "        -5.60532771e-02, -2.19389684e-02, -7.67069161e-02,  1.00912745e-04,\n",
       "        -2.00848922e-01, -1.82293579e-01, -4.31970507e-02, -1.04681971e-02],\n",
       "       dtype=float32),\n",
       " array([[-0.13604349,  0.02743231, -0.0143826 , ..., -0.4206607 ,\n",
       "          0.09346196,  0.09086777],\n",
       "        [-0.19777608, -0.4159783 ,  0.19014862, ...,  0.0060476 ,\n",
       "         -0.07602178, -0.6259363 ],\n",
       "        [-0.68582165,  0.2056371 , -0.8305687 , ..., -0.44426438,\n",
       "         -0.37123975,  0.16868919],\n",
       "        ...,\n",
       "        [-0.03494091, -0.37884486,  0.09386481, ...,  0.03737033,\n",
       "         -0.31637245, -0.02993936],\n",
       "        [-0.46824962,  0.00209386,  0.09030152, ..., -0.2083952 ,\n",
       "         -0.03873801, -0.5136074 ],\n",
       "        [-0.07810931,  0.0056613 , -0.06518333, ..., -0.06628419,\n",
       "          0.05944255, -0.13600037]], dtype=float32),\n",
       " array([-0.04924596,  0.04434593, -0.0951505 , -0.02066974, -0.05100464,\n",
       "        -0.03642171, -0.10794052, -0.04849375, -0.13197745, -0.06856968],\n",
       "       dtype=float32)]"
      ]
     },
     "execution_count": 97,
     "metadata": {},
     "output_type": "execute_result"
    }
   ],
   "source": [
    "model.get_weights()"
   ]
  },
  {
   "cell_type": "code",
   "execution_count": null,
   "metadata": {},
   "outputs": [],
   "source": []
  }
 ],
 "metadata": {
  "kernelspec": {
   "display_name": "Python 3",
   "language": "python",
   "name": "python3"
  },
  "language_info": {
   "codemirror_mode": {
    "name": "ipython",
    "version": 3
   },
   "file_extension": ".py",
   "mimetype": "text/x-python",
   "name": "python",
   "nbconvert_exporter": "python",
   "pygments_lexer": "ipython3",
   "version": "3.7.4"
  }
 },
 "nbformat": 4,
 "nbformat_minor": 2
}
